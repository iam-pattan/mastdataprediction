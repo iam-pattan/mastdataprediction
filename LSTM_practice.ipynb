{
 "cells": [
  {
   "cell_type": "code",
   "execution_count": null,
   "metadata": {
    "colab": {
     "base_uri": "https://localhost:8080/",
     "height": 50
    },
    "id": "MzL7xPQ5CquX",
    "outputId": "ccc5fb9e-3a72-468f-e468-83ddfbd2f23a"
   },
   "outputs": [],
   "source": [
    "%%time\n",
    "# LSTM for weather forecasting and time series implementation with regression framing\n",
    "\n",
    "import numpy\n",
    "import matplotlib.pyplot as plt\n",
    "from pandas import read_csv\n",
    "import math\n",
    "from tensorflow.keras.models import Sequential\n",
    "from tensorflow.keras.layers import Dense\n",
    "from tensorflow.keras.layers import LSTM\n",
    "from sklearn.preprocessing import MinMaxScaler\n",
    "from sklearn.metrics import mean_squared_error"
   ]
  },
  {
   "cell_type": "code",
   "execution_count": null,
   "metadata": {
    "id": "tpOE3Vu_0A5m"
   },
   "outputs": [],
   "source": [
    "# convert an array of values into a dataset matrix\n",
    "def create_dataset(dataset, look_back=1):\n",
    "\tdataX, dataY = [], []\n",
    "\tfor i in range(len(dataset)-look_back-1):\n",
    "\t\ta = dataset[i:(i+look_back), 0]\n",
    "\t\tdataX.append(a)\n",
    "\t\tdataY.append(dataset[i + look_back, 0])\n",
    "\treturn numpy.array(dataX), numpy.array(dataY)"
   ]
  },
  {
   "cell_type": "code",
   "execution_count": null,
   "metadata": {
    "colab": {
     "base_uri": "https://localhost:8080/",
     "height": 370
    },
    "id": "EaKEzeZQz353",
    "outputId": "5a1433e6-eda1-407e-a8ac-2b3737cae0d0"
   },
   "outputs": [],
   "source": [
    "# fix random seed for reproducibility\n",
    "numpy.random.seed(7)\n",
    "\n",
    "\n",
    "# load the dataset\n",
    "dataframe = read_csv('data8.csv', usecols=[1], engine='python', skipfooter=3)\n",
    "dataframe.fillna(method='bfill', inplace=True)\n",
    "dataset = dataframe.values\n",
    "dataset = dataset.astype('float32')\n",
    "dataframe.iloc[850:900]"
   ]
  },
  {
   "cell_type": "code",
   "execution_count": null,
   "metadata": {
    "id": "Pz546hiD0Rj5"
   },
   "outputs": [],
   "source": [
    "# normalize the dataset\n",
    "scaler = MinMaxScaler(feature_range=(0, 1))\n",
    "dataset = scaler.fit_transform(dataset)"
   ]
  },
  {
   "cell_type": "code",
   "execution_count": null,
   "metadata": {
    "id": "sr6Y9sXI0Rw0"
   },
   "outputs": [],
   "source": [
    "# split into train and test sets\n",
    "train_size = int(len(dataset) * 0.67)\n",
    "test_size = len(dataset) - train_size\n",
    "train, test = dataset[0:train_size,:], dataset[train_size:len(dataset),:]"
   ]
  },
  {
   "cell_type": "code",
   "execution_count": null,
   "metadata": {
    "id": "70eXDFA80R1A"
   },
   "outputs": [],
   "source": [
    "# reshape into X=t and Y=t+1\n",
    "look_back = 6\n",
    "trainX, trainY = create_dataset(train, look_back)\n",
    "testX, testY = create_dataset(test, look_back)"
   ]
  },
  {
   "cell_type": "code",
   "execution_count": null,
   "metadata": {
    "colab": {
     "base_uri": "https://localhost:8080/",
     "height": 34
    },
    "id": "LcVcyrVh0Rva",
    "outputId": "49d20ad8-1a57-4081-da0f-20605e4af8a5"
   },
   "outputs": [],
   "source": [
    "trainX.shape"
   ]
  },
  {
   "cell_type": "code",
   "execution_count": null,
   "metadata": {
    "id": "kncMhDho0-qI"
   },
   "outputs": [],
   "source": [
    "# reshape input to be [samples, time steps, features]\n",
    "trainX = numpy.reshape(trainX, (trainX.shape[0], 1, trainX.shape[1]))\n",
    "testX = numpy.reshape(testX, (testX.shape[0], 1, testX.shape[1]))"
   ]
  },
  {
   "cell_type": "code",
   "execution_count": null,
   "metadata": {
    "colab": {
     "base_uri": "https://localhost:8080/",
     "height": 34
    },
    "id": "33tsc1wu0-vg",
    "outputId": "16e98d74-7b02-4748-9feb-6ef44df32d0b"
   },
   "outputs": [],
   "source": [
    "trainX.shape"
   ]
  },
  {
   "cell_type": "code",
   "execution_count": null,
   "metadata": {
    "colab": {
     "base_uri": "https://localhost:8080/",
     "height": 853
    },
    "id": "nOLEqCuj0-yb",
    "outputId": "98584dbb-ed99-4d4a-e017-fd37752c0178"
   },
   "outputs": [],
   "source": [
    "# create and fit the LSTM network\n",
    "epochs = 10\n",
    "\n",
    "model = Sequential()\n",
    "model.add(LSTM(4, input_shape=(1, look_back)))\n",
    "model.add(Dense(1))\n",
    "model.compile(loss='mean_squared_error', optimizer='adam')\n",
    "model.fit(trainX, trainY, epochs=epochs, batch_size=32, verbose=1)"
   ]
  },
  {
   "cell_type": "code",
   "execution_count": null,
   "metadata": {
    "id": "omIWi2OH0-tH"
   },
   "outputs": [],
   "source": [
    "# make predictions\n",
    "trainPredict = model.predict(trainX)\n",
    "testPredict = model.predict(testX)"
   ]
  },
  {
   "cell_type": "code",
   "execution_count": null,
   "metadata": {
    "id": "C0PRtpvp0-mc"
   },
   "outputs": [],
   "source": [
    "# invert predictions\n",
    "trainPredict = scaler.inverse_transform(trainPredict)\n",
    "trainYinv = scaler.inverse_transform([trainY])\n",
    "testPredict = scaler.inverse_transform(testPredict)\n",
    "testYinv = scaler.inverse_transform([testY])"
   ]
  },
  {
   "cell_type": "code",
   "execution_count": null,
   "metadata": {
    "colab": {
     "base_uri": "https://localhost:8080/",
     "height": 51
    },
    "id": "9_WN31CG1arM",
    "outputId": "f7304041-a179-48c0-ca52-51127ae5c279"
   },
   "outputs": [],
   "source": [
    "# calculate root mean squared error\n",
    "trainScore = math.sqrt(mean_squared_error(trainYinv[0], trainPredict[:,0]))\n",
    "print('Train Score: %.2f RMSE' % (trainScore))\n",
    "testScore = math.sqrt(mean_squared_error(testYinv[0], testPredict[:,0]))\n",
    "print('Test Score: %.2f RMSE' % (testScore))"
   ]
  },
  {
   "cell_type": "code",
   "execution_count": null,
   "metadata": {
    "id": "YXA_w5uJ1auX"
   },
   "outputs": [],
   "source": [
    "# shift train predictions for plotting\n",
    "trainPredictPlot = numpy.empty_like(dataset)\n",
    "trainPredictPlot[:, :] = numpy.nan\n",
    "trainPredictPlot[look_back:len(trainPredict)+look_back, :] = trainPredict\n",
    "\n",
    "# shift test predictions for plotting\n",
    "testPredictPlot = numpy.empty_like(dataset)\n",
    "testPredictPlot[:, :] = numpy.nan\n",
    "testPredictPlot[len(trainPredict)+(look_back*2)+1:len(dataset)-1, :] = testPredict"
   ]
  },
  {
   "cell_type": "code",
   "execution_count": null,
   "metadata": {
    "colab": {
     "base_uri": "https://localhost:8080/",
     "height": 295
    },
    "id": "l6ZJuGzX1an3",
    "outputId": "13ddcb92-1c99-471d-dad6-745371638dc7"
   },
   "outputs": [],
   "source": [
    "# plot baseline and predictions\n",
    "val_from = 0\n",
    "val_to = -1\n",
    "\n",
    "plt.plot(scaler.inverse_transform(dataset)[val_from:val_to],  label = 'Dataset')\n",
    "plt.plot(trainPredictPlot[val_from:val_to],  label = 'Train')\n",
    "plt.plot(testPredictPlot[val_from:val_to],  label = 'Test')\n",
    "plt.xlabel('Time Range')\n",
    "plt.ylabel('Wind Speed (Normalized)')\n",
    "plt.legend()\n",
    "plt.title('Model Output Validation')\n",
    "plt.show()"
   ]
  },
  {
   "cell_type": "markdown",
   "metadata": {},
   "source": [
    "\n",
    "\n",
    "\n",
    "\n",
    "# fbprophet_predictions"
   ]
  },
  {
   "cell_type": "code",
   "execution_count": null,
   "metadata": {},
   "outputs": [],
   "source": [
    "import numpy\n",
    "import matplotlib.pyplot as plt\n",
    "from pandas import read_csv\n",
    "import math\n",
    "import pandas as pd\n",
    "\n",
    "dataframe = read_csv('data8.csv', engine='python')\n",
    "dataframe.head(10)"
   ]
  },
  {
   "cell_type": "code",
   "execution_count": null,
   "metadata": {},
   "outputs": [],
   "source": [
    "col = dataframe.columns\n",
    "# dataframe.index\n",
    "col"
   ]
  },
  {
   "cell_type": "code",
   "execution_count": null,
   "metadata": {},
   "outputs": [],
   "source": [
    "df1 = dataframe.iloc[:,[3,6,9,12,15,18,21,24,27,30,33,36]].mean(axis=1)\n",
    "df2 = dataframe.iloc[:,[4,7,10,13,16,19,22,25,28,31,34,37]].mean(axis=1)\n",
    "df3 = dataframe.iloc[:,[5,8,11,14,17,20,23,26,29,32,35,38]].mean(axis=1)\n",
    "dataframe['Mean Wind speed'], dataframe['Mean Wind Dispersion'], dataframe['Mean Wind Direction'] = [df1, df2, df3]\n",
    "df = dataframe.iloc[:].round({'Mean Wind Dispersion':2, 'Mean Wind speed':2, 'Mean Wind Direction':2})\n",
    "df['Date/Time']= pd.to_datetime(df['Date/Time'])\n",
    "df.set_index('Date/Time', inplace=True)\n",
    "df.iloc[850:1000]\n",
    "# df.columns"
   ]
  },
  {
   "cell_type": "code",
   "execution_count": null,
   "metadata": {},
   "outputs": [],
   "source": [
    "# df4 = read_csv('data8.csv', usecols=[0,1], engine='python', skipfooter=1)\n",
    "pd.DataFrame(df)\n",
    "dfc1 = df[['Mean Wind speed','Mean Wind Dispersion','Mean Wind Direction']].copy()\n",
    "dfc1.iloc[3800:4000]\n",
    "dfc1"
   ]
  },
  {
   "cell_type": "code",
   "execution_count": null,
   "metadata": {},
   "outputs": [],
   "source": [
    "# dfc1.datetime.rename('ds', inplace=False)\n",
    "# dfc1.index.name='ds'\n",
    "# dfc1.columns.name='y'\n",
    "# dfc1.rename(columns={'Mean Wind speed':'y'}, inplace = True) \n",
    "# dfc1.rename(columns = {'Mean Wind speed':'y'}, inplace = True) \n",
    "# dfc2=dfc1.resample('H').mean()\n",
    "dfc2=dfc1.copy()\n",
    "dfc=dfc2.drop(columns=[ 'Mean Wind Dispersion','Mean Wind Direction'])\n",
    "dfc.shape"
   ]
  },
  {
   "cell_type": "code",
   "execution_count": null,
   "metadata": {},
   "outputs": [],
   "source": [
    "from fbprophet import Prophet\n",
    "\n",
    "dataset=dfc.reset_index()[['Date/Time', 'Mean Wind speed']].rename({'Date/Time':'ds', 'Mean Wind speed':'y'}, axis='columns')\n",
    "# split into train and test sets\n",
    "train_size = int(len(dataset) * 0.67)\n",
    "test_size = len(dataset) - train_size\n",
    "train, test = dataset[0:train_size], dataset[train_size:len(dataset)]\n"
   ]
  },
  {
   "cell_type": "code",
   "execution_count": null,
   "metadata": {},
   "outputs": [],
   "source": [
    "train.shape,test.shape"
   ]
  },
  {
   "cell_type": "code",
   "execution_count": null,
   "metadata": {},
   "outputs": [],
   "source": [
    "m = Prophet(interval_width=0.95, yearly_seasonality=True, monthly_seasonality=True, daily_seasonality=True)\n",
    "train\n",
    "m.fit(train)  # dfc is a pandas.DataFrame with 'y' and 'ds' columns\n",
    "# m.params"
   ]
  },
  {
   "cell_type": "code",
   "execution_count": null,
   "metadata": {},
   "outputs": [],
   "source": [
    "future = m.make_future_dataframe(periods=144, freq='10min')\n",
    "forecast=m.predict(future)\n",
    "fbp = forecast['yhat']\n"
   ]
  },
  {
   "cell_type": "code",
   "execution_count": null,
   "metadata": {},
   "outputs": [],
   "source": [
    "forecast.tail()"
   ]
  },
  {
   "cell_type": "code",
   "execution_count": null,
   "metadata": {},
   "outputs": [],
   "source": [
    "m.plot(forecast)"
   ]
  },
  {
   "cell_type": "code",
   "execution_count": null,
   "metadata": {},
   "outputs": [],
   "source": [
    "pd.concat([train.set_index('ds')['y'], forecast.set_index('ds')['yhat']],axis=1).plot()"
   ]
  },
  {
   "cell_type": "code",
   "execution_count": null,
   "metadata": {},
   "outputs": [],
   "source": [
    "m.plot_components(forecast)"
   ]
  },
  {
   "cell_type": "code",
   "execution_count": null,
   "metadata": {},
   "outputs": [],
   "source": [
    "from fbprophet.plot import add_changepoints_to_plot\n",
    "\n",
    "fig = m.plot(forecast)\n",
    "add_changepoints_to_plot(fig.gca(), m, forecast)"
   ]
  },
  {
   "cell_type": "code",
   "execution_count": null,
   "metadata": {},
   "outputs": [],
   "source": [
    "m.changepoints"
   ]
  },
  {
   "cell_type": "code",
   "execution_count": null,
   "metadata": {},
   "outputs": [],
   "source": [
    "import plotly.graph_objs as go"
   ]
  },
  {
   "cell_type": "code",
   "execution_count": null,
   "metadata": {},
   "outputs": [],
   "source": [
    "from fbprophet.plot import plot_plotly\n",
    "import plotly.offline as ply\n",
    "\n",
    "fig = plot_plotly(m, forecast)  #this returns a plotly figure\n",
    "ply.iplot(fig)"
   ]
  },
  {
   "cell_type": "code",
   "execution_count": null,
   "metadata": {},
   "outputs": [],
   "source": [
    "from fbprophet.diagnostics import cross_validation as cv\n",
    "results = cv(model=m, initial = '395days', horizon = '195 days')\n",
    "results.head()"
   ]
  },
  {
   "cell_type": "code",
   "execution_count": null,
   "metadata": {},
   "outputs": [],
   "source": [
    "from fbprophet.diagnostics import performance_metrics as pm\n",
    "\n",
    "pm(cv)"
   ]
  },
  {
   "cell_type": "code",
   "execution_count": null,
   "metadata": {},
   "outputs": [],
   "source": []
  },
  {
   "cell_type": "code",
   "execution_count": null,
   "metadata": {},
   "outputs": [],
   "source": [
    "dfcc=dfc.interpolate(model='linear')\n",
    "dataset = dfc.fillna(dfcc)\n",
    "dataset.iloc[850:900]"
   ]
  },
  {
   "cell_type": "code",
   "execution_count": null,
   "metadata": {},
   "outputs": [],
   "source": [
    "m=prophet()\n",
    "m.fit(df)\n",
    "\n",
    "prophet_forecast = prophet_model.make_future_dataframe(periods=7, freq=\"d\")\n",
    "prophet_forecast = prophet_model.predict(prophet_forecast)\n",
    "\n",
    "fig1 = prophet_model.plot(prophet_forecast)\n",
    "\n",
    "datenow = datetime.now()\n",
    "dateend = datenow + timedelta(days=7)\n",
    "datestart = dateend - timedelta(days=14)\n",
    "\n",
    "plt.xlim([datestart, dateend])\n",
    "plt.title(\"Email forecast\", fontsize=20)\n",
    "plt.xlabel(\"Day\", fontsize=20)\n",
    "plt.ylabel(\"Emails expected\", fontsize=20)\n",
    "plt.axvline(datenow, color=\"k\", linestyle=\":\")\n",
    "plt.show()"
   ]
  },
  {
   "cell_type": "code",
   "execution_count": null,
   "metadata": {},
   "outputs": [],
   "source": []
  }
 ],
 "metadata": {
  "accelerator": "GPU",
  "colab": {
   "collapsed_sections": [],
   "name": "LSTM_blackeye735.ipynb",
   "provenance": [],
   "toc_visible": true
  },
  "kernelspec": {
   "display_name": "Python 3",
   "language": "python",
   "name": "python3"
  },
  "language_info": {
   "codemirror_mode": {
    "name": "ipython",
    "version": 3
   },
   "file_extension": ".py",
   "mimetype": "text/x-python",
   "name": "python",
   "nbconvert_exporter": "python",
   "pygments_lexer": "ipython3",
   "version": "3.7.4"
  }
 },
 "nbformat": 4,
 "nbformat_minor": 1
}
