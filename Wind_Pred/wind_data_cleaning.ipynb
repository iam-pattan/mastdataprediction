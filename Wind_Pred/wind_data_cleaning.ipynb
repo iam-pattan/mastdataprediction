{
 "cells": [
  {
   "cell_type": "markdown",
   "metadata": {
    "id": "0Hc15YxKxdso"
   },
   "source": [
    "## DATA CLEANING MODULE ##"
   ]
  },
  {
   "cell_type": "code",
   "execution_count": 1,
   "metadata": {
    "id": "W7zf460hJiHj",
    "scrolled": true
   },
   "outputs": [
    {
     "name": "stderr",
     "output_type": "stream",
     "text": [
      "In C:\\Users\\Afrid\\Anaconda3\\lib\\site-packages\\matplotlib\\mpl-data\\stylelib\\_classic_test.mplstyle: \n",
      "The text.latex.preview rcparam was deprecated in Matplotlib 3.3 and will be removed two minor releases later.\n",
      "In C:\\Users\\Afrid\\Anaconda3\\lib\\site-packages\\matplotlib\\mpl-data\\stylelib\\_classic_test.mplstyle: \n",
      "The mathtext.fallback_to_cm rcparam was deprecated in Matplotlib 3.3 and will be removed two minor releases later.\n",
      "In C:\\Users\\Afrid\\Anaconda3\\lib\\site-packages\\matplotlib\\mpl-data\\stylelib\\_classic_test.mplstyle: Support for setting the 'mathtext.fallback_to_cm' rcParam is deprecated since 3.3 and will be removed two minor releases later; use 'mathtext.fallback : 'cm' instead.\n",
      "In C:\\Users\\Afrid\\Anaconda3\\lib\\site-packages\\matplotlib\\mpl-data\\stylelib\\_classic_test.mplstyle: \n",
      "The validate_bool_maybe_none function was deprecated in Matplotlib 3.3 and will be removed two minor releases later.\n",
      "In C:\\Users\\Afrid\\Anaconda3\\lib\\site-packages\\matplotlib\\mpl-data\\stylelib\\_classic_test.mplstyle: \n",
      "The savefig.jpeg_quality rcparam was deprecated in Matplotlib 3.3 and will be removed two minor releases later.\n",
      "In C:\\Users\\Afrid\\Anaconda3\\lib\\site-packages\\matplotlib\\mpl-data\\stylelib\\_classic_test.mplstyle: \n",
      "The keymap.all_axes rcparam was deprecated in Matplotlib 3.3 and will be removed two minor releases later.\n",
      "In C:\\Users\\Afrid\\Anaconda3\\lib\\site-packages\\matplotlib\\mpl-data\\stylelib\\_classic_test.mplstyle: \n",
      "The animation.avconv_path rcparam was deprecated in Matplotlib 3.3 and will be removed two minor releases later.\n",
      "In C:\\Users\\Afrid\\Anaconda3\\lib\\site-packages\\matplotlib\\mpl-data\\stylelib\\_classic_test.mplstyle: \n",
      "The animation.avconv_args rcparam was deprecated in Matplotlib 3.3 and will be removed two minor releases later.\n"
     ]
    },
    {
     "name": "stdout",
     "output_type": "stream",
     "text": [
      "        YYYY   MM  DD  hour  minutes  WS_50_mean WS_50_stdev  WS_80_mean  \\\n",
      "0        2013  10   1    10        0        5.62        0.43        5.71   \n",
      "1        2013  10   1    10       10        5.72        0.48        5.85   \n",
      "2        2013  10   1    10       20        6.00        0.36        6.05   \n",
      "3        2013  10   1    10       30        6.49        0.41        6.58   \n",
      "4        2013  10   1    10       40        6.74        0.45        6.82   \n",
      "...       ...  ..  ..   ...      ...         ...         ...         ...   \n",
      "104944   2015   9  30    23       10        8.76        0.64        8.14   \n",
      "104945   2015   9  30    23       20        8.60        0.61        8.28   \n",
      "104946   2015   9  30    23       30        8.48        0.66        8.26   \n",
      "104947   2015   9  30    23       40        9.39        0.81        8.96   \n",
      "104948   2015   9  30    23       50       10.14        0.65        9.75   \n",
      "\n",
      "       WS_80_stdev  WS_100_mean WS_100_stdev Ta_10_mean Pbaro_5_mean  \n",
      "0             0.43         5.61         0.43      27.81       1004.2  \n",
      "1              0.5         5.85         0.43      27.82       1004.1  \n",
      "2             0.46         6.05         0.37      27.76       1003.9  \n",
      "3             0.53         6.46         0.43      27.77       1003.9  \n",
      "4             0.56         6.86         0.39       27.8       1003.8  \n",
      "...            ...          ...          ...        ...          ...  \n",
      "104944        0.74         9.01         0.57      27.46       1010.4  \n",
      "104945        0.68         8.84         0.61      27.31       1010.4  \n",
      "104946         0.6         8.66         0.58      27.22       1010.3  \n",
      "104947        0.75         9.51          0.9      27.19       1010.2  \n",
      "104948        0.63        10.26         0.58      27.18       1010.1  \n",
      "\n",
      "[104753 rows x 13 columns]\n"
     ]
    }
   ],
   "source": [
    "from matplotlib import pyplot\n",
    "import pandas as pd\n",
    "\n",
    "df = pd.read_excel(\"mast.xlsx\")\n",
    "df_error=df.copy() \n",
    "df_error ## uncleaned_table\n",
    "df.describe()\n",
    "\n",
    "df.drop(df.columns[[3, 4]], axis = 1, inplace = True)\n",
    "df.replace(to_replace=0.00,value=\"998\",inplace=True)\n",
    "df.insert(3,'hour',df_error['hour'],False)\n",
    "df.insert(4,'minutes',df_error['minutes'],False)\n",
    "df1=df.copy()\n",
    "df1.head(500)\n",
    "value = []\n",
    "for col in df.columns: \n",
    "    value.append(col)\n",
    "value\n",
    "\n",
    "news = []\n",
    "for i in value:\n",
    "    news.append(df[i] != \"998\")\n",
    "    df = df[df[i] != \"998\"]\n",
    "df\n",
    "df2=pd.concat([df,df1]).drop_duplicates(keep=False)\n",
    "df2[\"CodeStatus\"]=\"Sensor_Failure\"\n",
    "df2 ##error_log_table\n",
    "df.drop(df.columns[[3, 4]], axis = 1, inplace = True)\n",
    "df.interpolate(method='pad')\n",
    "df.insert(3,'hour',df_error['hour'],False)\n",
    "df.insert(4,'minutes',df_error['minutes'],False)\n",
    "df3=df.copy()\n",
    "df3 ##cleaned_table\n",
    "df3.to_excel(r'cleaned_mast_data.xlsx',index = False,header=True)\n",
    "print(df3)"
   ]
  },
  {
   "cell_type": "markdown",
   "metadata": {
    "id": "QBi_UWGSzNSl"
   },
   "source": [
    "## DATABASE CONNECTIVITY MODULE ##"
   ]
  },
  {
   "cell_type": "code",
   "execution_count": 7,
   "metadata": {
    "colab": {
     "base_uri": "https://localhost:8080/"
    },
    "id": "bIBK06RC23jH",
    "outputId": "735d254c-d0ed-4899-a6d1-cc66b0b3ca06"
   },
   "outputs": [
    {
     "name": "stdout",
     "output_type": "stream",
     "text": [
      "Requirement already satisfied: psycopg2 in e:\\pytonconfhyd\\anacondainst\\lib\\site-packages (2.8.6)\n",
      "Note: you may need to restart the kernel to use updated packages.\n"
     ]
    }
   ],
   "source": [
    "pip install psycopg2;\n"
   ]
  },
  {
   "cell_type": "code",
   "execution_count": 2,
   "metadata": {
    "colab": {
     "base_uri": "https://localhost:8080/",
     "height": 337
    },
    "id": "N5Sm4_iEJiIB",
    "outputId": "c66e9cae-c46b-4e41-91ba-87d4f93491a4"
   },
   "outputs": [
    {
     "name": "stdout",
     "output_type": "stream",
     "text": [
      "PostgreSQL connection is closed\n"
     ]
    }
   ],
   "source": [
    "import psycopg2\n",
    "try:\n",
    "    connection = psycopg2.connect(user = \"postgres\",\n",
    "                                  password = \"ahmed123\",\n",
    "                                  host = \"localhost\",\n",
    "                                  port = \"5432\",\n",
    "                                  database = \"postgres\")\n",
    "\n",
    "    cur = connection.cursor()\n",
    "    \n",
    "        ##Table 1 - wind_data_uncleaned_table##\n",
    "    # create table\n",
    "#     cur.execute('''CREATE TABLE wind_data_uncleaned_table\n",
    "#      (Id serial PRIMARY KEY     NOT NULL,\n",
    "#       YYYY date  NOT NULL,\n",
    "#       MM  date     NOT NULL,\n",
    "#       DD  date NOT NULL,\n",
    "#       hour time NOT NULL,\n",
    "#       minutes time NOT NULL,\n",
    "#       WS_50_mean numeric NOT NULL,\n",
    "#       WS_50_stdev numeric NOT NULL,\n",
    "#       WS_80_mean numeric NOT NULL,\n",
    "#       WS_80_stdev numeric NOT NULL,  \n",
    "#       WS_100_mean numeric NOT NULL,\n",
    "#       WS_100_stdev numeric NOT NULL,\n",
    "#       Ta_10_mean numeric NOT NULL,\n",
    "#       Pbaro_5_mean numeric NOT NULL)''')\n",
    "#     print(\"Table created successfully\")\n",
    "    \n",
    "   # Insert DataFrame records\n",
    "#     for i,row in df_error.iterrows():\n",
    "#         sql = \"INSERT INTO wind_data_uncleaned_table(YYYY,MM,DD,hour,minutes,WS_50_mean,WS_50_stdev,WS_80_mean,WS_80_stdev,WS_100_mean,WS_100_stdev,Ta_10_mean,Pbaro_5_mean) VALUES (\" + \"%s,\"*(len(row)-1) + \"%s)\"\n",
    "#         cur.execute(sql,row)\n",
    "#     print(\"Inserted successfully\")\n",
    "\n",
    "   # display the table\n",
    "   #  sql=\"select * from wind_data_uncleaned_table\"\n",
    "   #  cursor.execute(sql)\n",
    "   #  #Fetching 1st row from the table\n",
    "   #  result = cursor.fetchall();\n",
    "   #  print(result)\n",
    "\n",
    "            ##Table 2 - wind_data_error_log_table##\n",
    "   #   cur.execute('''CREATE TABLE wind_data_error_log_table\n",
    "   #      (Id serial PRIMARY KEY     NOT NULL,\n",
    "   #       YYYY date  NOT NULL,\n",
    "   #       MM  date     NOT NULL,\n",
    "   #       DD  date NOT NULL,\n",
    "   #       hour time NOT NULL,\n",
    "   #       minutes time NOT NULL,\n",
    "   #       WS_50_mean numeric NOT NULL,\n",
    "   #       WS_50_stdev numeric NOT NULL,\n",
    "   #       WS_80_mean numeric NOT NULL,\n",
    "   #       WS_80_stdev numeric NOT NULL,  \n",
    "   #       WS_100_mean numeric NOT NULL,\n",
    "   #       WS_100_stdev numeric NOT NULL,\n",
    "   #       Ta_10_mean numeric NOT NULL,\n",
    "   #       Pbaro_5_mean numeric NOT NULL,\n",
    "   #       CodeStatus char(50) NOT NULL)''')\n",
    "   #     print(\"Table created successfully\")\n",
    "    \n",
    "   # Insert DataFrame records\n",
    "   #     for i,row in df_error.iterrows():\n",
    "   #         sql = \"INSERT INTO wind_data_error_log_table(YYYY,MM,DD,hour,minutes,WS_50_mean,WS_50_stdev,WS_80_mean,WS_80_stdev,WS_100_mean,WS_100_stdev,Ta_10_mean,Pbaro_5_mean,CodeStatus) VALUES (\" + \"%s,\"*(len(row)-1) + \"%s)\"\n",
    "   #         cur.execute(sql,row)\n",
    "   #     print(\"Inserted successfully\")\n",
    "\n",
    "   # Display the table\n",
    "   #  sql=\"select * from wind_data_error_log_table\"\n",
    "   #  cursor.execute(sql)\n",
    "   #  #Fetching 1st row from the table\n",
    "   #  result = cursor.fetchall();\n",
    "   #  print(result)\n",
    "\n",
    "             ##Table 3 - wind_data_cleaned_table##\n",
    "   # create table\n",
    "   # cur.execute('''CREATE TABLE wind_data_cleaned_table\n",
    "   #      (Id serial PRIMARY KEY     NOT NULL,\n",
    "#       YYYY date  NOT NULL,\n",
    "#       MM  date     NOT NULL,\n",
    "#       DD  date NOT NULL,\n",
    "#       hour time NOT NULL,\n",
    "#       minutes time NOT NULL,\n",
    "#       WS_50_mean numeric NOT NULL,\n",
    "#       WS_50_stdev numeric NOT NULL,\n",
    "#       WS_80_mean numeric NOT NULL,\n",
    "#       WS_80_stdev numeric NOT NULL,  \n",
    "#       WS_100_mean numeric NOT NULL,\n",
    "#       WS_100_stdev numeric NOT NULL,\n",
    "#       Ta_10_mean numeric NOT NULL,\n",
    "#       Pbaro_5_mean numeric NOT NULL)''')\n",
    "\n",
    "      # Insert DataFrame records\n",
    "#     for i,row in df_error.iterrows():\n",
    "#         sql = \"INSERT INTO wind_data_cleaned_table(YYYY,MM,DD,hour,minutes,WS_50_mean,WS_50_stdev,WS_80_mean,WS_80_stdev,WS_100_mean,WS_100_stdev,Ta_10_mean,Pbaro_5_mean) VALUES (\" + \"%s,\"*(len(row)-1) + \"%s)\"\n",
    "#         cur.execute(sql,row)\n",
    "#     print(\"Inserted successfully\")\n",
    "\n",
    "   # display the table\n",
    "   #  sql=\"select * from wind_data_cleaned_table\"\n",
    "   #  cursor.execute(sql)\n",
    "   #  #Fetching 1st row from the table\n",
    "   #  result = cursor.fetchall();\n",
    "   #  print(result)\n",
    "\n",
    "    connection.commit()\n",
    "\n",
    "except (Exception, psycopg2.Error) as error :\n",
    "    print (\"Error while connecting to PostgreSQL\", error)\n",
    "finally:\n",
    "  #closing database connection.\n",
    "  if(connection):\n",
    "    cur.close()\n",
    "    connection.close()\n",
    "    print(\"PostgreSQL connection is closed\")"
   ]
  },
  {
   "cell_type": "code",
   "execution_count": 75,
   "metadata": {
    "id": "RhnMuXWZJiIM"
   },
   "outputs": [],
   "source": [
    "## PREDICTION MODULE ##"
   ]
  },
  {
   "cell_type": "code",
   "execution_count": 76,
   "metadata": {
    "id": "Xdn7qGim6Pro"
   },
   "outputs": [],
   "source": [
    "#FBPROPHET#"
   ]
  },
  {
   "cell_type": "code",
   "execution_count": null,
   "metadata": {
    "id": "SG7l_pI8561Z"
   },
   "outputs": [],
   "source": [
    "from fbprophet import Prophet\n",
    "\n",
    "# split into train and test sets\n",
    "train_size = int(len(df3) * 0.67)\n",
    "test_size = len(df3) - train_size\n",
    "train, test = df3[0:train_size], df3[train_size:len(df3)]\n",
    "train.shape,test.shape\n",
    "m = Prophet(interval_width=0.95, yearly_seasonality=True, monthly_seasonality=True, daily_seasonality=True)\n",
    "train\n",
    "m.fit(train)\n",
    "future = m.make_future_dataframe(periods=144, freq='10min')\n",
    "forecast=m.predict(future)\n",
    "fbp = forecast['yhat']\n",
    "forecast.tail()\n",
    "m.plot(forecast)\n",
    "m.plot_components(forecast)"
   ]
  },
  {
   "cell_type": "code",
   "execution_count": null,
   "metadata": {
    "id": "9NFsi04r_HRT"
   },
   "outputs": [],
   "source": [
    "import plotly.graph_objs as go\n",
    "from fbprophet.plot import plot_plotly\n",
    "import plotly.offline as ply\n",
    "\n",
    "fig = plot_plotly(m, forecast)  #this returns a plotly figure\n",
    "ply.iplot(fig)\n",
    "from fbprophet.diagnostics import cross_validation as cv\n",
    "results = cv(model=m, initial = '395days', horizon = '195 days')\n",
    "results.head()\n",
    "\n",
    "from fbprophet.diagnostics import performance_metrics as pm\n",
    "\n",
    "pm(cv)\n",
    "m=prophet()\n",
    "m.fit(df)\n",
    "\n",
    "prophet_forecast = prophet_model.make_future_dataframe(periods=7, freq=\"d\")\n",
    "prophet_forecast = prophet_model.predict(prophet_forecast)\n",
    "\n",
    "fig1 = prophet_model.plot(prophet_forecast)\n",
    "\n",
    "datenow = datetime.now()\n",
    "dateend = datenow + timedelta(days=7)\n",
    "datestart = dateend - timedelta(days=14)\n",
    "\n",
    "plt.xlim([datestart, dateend])\n",
    "plt.title(\"wind speed forecast\", fontsize=20)\n",
    "plt.xlabel(\"Day\", fontsize=20)\n",
    "plt.ylabel(\"wind speed expected\", fontsize=20)\n",
    "plt.axvline(datenow, color=\"k\", linestyle=\":\")\n",
    "plt.show()"
   ]
  }
 ],
 "metadata": {
  "colab": {
   "collapsed_sections": [],
   "name": "wind_data_cleaning.ipynb",
   "provenance": []
  },
  "kernelspec": {
   "display_name": "Python 3",
   "language": "python",
   "name": "python3"
  },
  "language_info": {
   "codemirror_mode": {
    "name": "ipython",
    "version": 3
   },
   "file_extension": ".py",
   "mimetype": "text/x-python",
   "name": "python",
   "nbconvert_exporter": "python",
   "pygments_lexer": "ipython3",
   "version": "3.7.4"
  }
 },
 "nbformat": 4,
 "nbformat_minor": 1
}
