{
 "cells": [
  {
   "cell_type": "code",
   "execution_count": 2,
   "metadata": {
    "id": "0Hc15YxKxdso"
   },
   "outputs": [],
   "source": [
    "## DATA CLEANING MODULE ##"
   ]
  },
  {
   "cell_type": "code",
   "execution_count": 11,
   "metadata": {
    "id": "W7zf460hJiHj",
    "scrolled": true
   },
   "outputs": [],
   "source": [
    "import pandas as pd\n",
    "\n",
    "df = pd.read_excel(\"mast.xlsx\")\n",
    "df1=df.copy() \n",
    "df1 ## uncleaned_table\n",
    "store_uncleaneddata()\n",
    "df.describe()\n",
    "df.replace(to_replace=0.00,value=\"998\",inplace=True)\n",
    "df2=df.copy()\n",
    "value = []\n",
    "for col in df.columns: \n",
    "    value.append(col)\n",
    "value\n",
    "\n",
    "news = []\n",
    "for i in value:\n",
    "    news.append(df[i] != \"998\")\n",
    "    df = df[df[i] != \"998\"]\n",
    "df\n",
    "df3=pd.concat([df,df2]).drop_duplicates(keep=False)\n",
    "df3[\"CodeStatus\"]=\"Sensor_Failure\"\n",
    "df3 ##error_log_table\n",
    "store_error_log_data()\n",
    "df.interpolate(method='pad')\n",
    "df4=df.copy()\n",
    "df4 ##cleaned_table\n",
    "store_cleaned_data()\n",
    "#df4.to_excel('cleaned_mast_data.xlsx',index = False,header=True)"
   ]
  },
  {
   "cell_type": "code",
   "execution_count": 39,
   "metadata": {
    "id": "QBi_UWGSzNSl"
   },
   "outputs": [],
   "source": [
    "## DATABASE MODULE ##"
   ]
  },
  {
   "cell_type": "code",
   "execution_count": null,
   "metadata": {},
   "outputs": [],
   "source": [
    "pip install psycopg2;"
   ]
  },
  {
   "cell_type": "code",
   "execution_count": 1,
   "metadata": {
    "colab": {
     "base_uri": "https://localhost:8080/",
     "height": 337
    },
    "id": "N5Sm4_iEJiIB",
    "outputId": "c66e9cae-c46b-4e41-91ba-87d4f93491a4"
   },
   "outputs": [],
   "source": [
    "def store_uncleaneddata():\n",
    "    import psycopg2\n",
    "    try:\n",
    "        connection = psycopg2.connect(user = \"postgres\",\n",
    "                                  password = \"welcome\",\n",
    "                                  host = \"localhost\",\n",
    "                                  port = \"5433\",\n",
    "                                  database = \"cleaning_project\")\n",
    "\n",
    "        cur = connection.cursor()\n",
    "    \n",
    "        ##Table 1 - wind_data_uncleaned_table##\n",
    "        # create table\n",
    "        cur.execute('''CREATE TABLE wind_data_uncleaned_table\n",
    "         (Id serial PRIMARY KEY     NOT NULL,\n",
    "          Date timestamp  NOT NULL,\n",
    "          WS_50_mean numeric NOT NULL,\n",
    "          WS_50_stdev numeric NOT NULL,\n",
    "          WS_80_mean numeric NOT NULL,\n",
    "          WS_80_stdev numeric NOT NULL,  \n",
    "          WS_100_mean numeric NOT NULL,\n",
    "          WS_100_stdev numeric NOT NULL,\n",
    "          Ta_10_mean numeric NOT NULL,\n",
    "          Pbaro_5_mean numeric NOT NULL)''')\n",
    "        print(\"Table created successfully\")\n",
    "    \n",
    "       # Insert DataFrame records\n",
    "        for i,row in df1.iterrows():\n",
    "            sql = \"INSERT INTO wind_data_uncleaned_table(Date,WS_50_mean,WS_50_stdev,WS_80_mean,WS_80_stdev,WS_100_mean,WS_100_stdev,Ta_10_mean,Pbaro_5_mean) VALUES (\" + \"%s,\"*(len(row)-1) + \"%s)\"\n",
    "            cur.execute(sql,row)\n",
    "        print(\"Inserted successfully\")\n",
    "        connection.commit()\n",
    "\n",
    "    except (Exception, psycopg2.Error) as error :\n",
    "        print (\"Error while connecting to PostgreSQL\", error)\n",
    "    finally:\n",
    "        #closing database connection.\n",
    "        if(connection):\n",
    "            cur.close()\n",
    "            connection.close()\n",
    "    print(\"PostgreSQL connection is closed\")\n"
   ]
  },
  {
   "cell_type": "code",
   "execution_count": null,
   "metadata": {},
   "outputs": [],
   "source": [
    "def store_error_log_data():\n",
    "    import psycopg2\n",
    "    try:\n",
    "        connection = psycopg2.connect(user = \"postgres\",\n",
    "                                  password = \"welcome\",\n",
    "                                  host = \"localhost\",\n",
    "                                  port = \"5433\",\n",
    "                                  database = \"cleaning_project\")\n",
    "\n",
    "        cur = connection.cursor()\n",
    "                ##Table 2 - wind_data_error_log_table##\n",
    "        cur.execute('''CREATE TABLE wind_data_error_log_table(\n",
    "          Id serial PRIMARY KEY NOT NULL,\n",
    "          Date timestamp  NOT NULL,\n",
    "          WS_50_mean numeric NOT NULL,\n",
    "          WS_50_stdev numeric NOT NULL,\n",
    "          WS_100_mean numeric NOT NULL,\n",
    "          WS_100_stdev numeric NOT NULL,\n",
    "          Ta_10_mean numeric NOT NULL,\n",
    "          Pbaro_5_mean numeric NOT NULL,\n",
    "          CodeStatus char(50) NOT NULL)''')\n",
    "        print(\"Table created successfully\")\n",
    "        \n",
    "        # Insert DataFrame records\n",
    "        for i,row in df3.iterrows():\n",
    "            sql = \"INSERT INTO wind_data_error_log_table(Date,WS_50_mean,WS_50_stdev,WS_80_mean,WS_80_stdev,WS_100_mean,WS_100_stdev,Ta_10_mean,Pbaro_5_mean,CodeStatus) VALUES (\" + \"%s,\"*(len(row)-1) + \"%s)\"\n",
    "            cur.execute(sql,row)\n",
    "        print(\"Inserted successfully\")\n",
    "        connection.commit()\n",
    "\n",
    "    except (Exception, psycopg2.Error) as error :\n",
    "        print (\"Error while connecting to PostgreSQL\", error)\n",
    "    finally:\n",
    "        #closing database connection.\n",
    "        if(connection):\n",
    "            cur.close()\n",
    "            connection.close()\n",
    "    print(\"PostgreSQL connection is closed\")\n"
   ]
  },
  {
   "cell_type": "code",
   "execution_count": null,
   "metadata": {},
   "outputs": [],
   "source": [
    "def store_cleaned_data():\n",
    "    import psycopg2\n",
    "    try:\n",
    "        connection = psycopg2.connect(user = \"postgres\",\n",
    "                                  password = \"welcome\",\n",
    "                                  host = \"localhost\",\n",
    "                                  port = \"5433\",\n",
    "                                  database = \"cleaning_project\")\n",
    "\n",
    "        cur = connection.cursor()\n",
    "             ##Table 3 - wind_data_cleaned_table##\n",
    "        # create table\n",
    "        cur.execute('''CREATE TABLE wind_data_cleaned_table\n",
    "         (Id serial PRIMARY KEY     NOT NULL,\n",
    "          Date timestamp NOT NULL,\n",
    "          WS_50_mean numeric NOT NULL,\n",
    "          WS_50_stdev numeric NOT NULL,\n",
    "          WS_80_mean numeric NOT NULL,\n",
    "          WS_80_stdev numeric NOT NULL,  \n",
    "          WS_100_mean numeric NOT NULL,\n",
    "          WS_100_stdev numeric NOT NULL,\n",
    "          Ta_10_mean numeric NOT NULL,\n",
    "          Pbaro_5_mean numeric NOT NULL)''')\n",
    "        print(\"Table created successfully\")\n",
    "\n",
    "        # Insert DataFrame records\n",
    "        for i,row in df4.iterrows():\n",
    "            sql = \"INSERT INTO wind_data_cleaned_table(Date,WS_50_mean,WS_50_stdev,WS_80_mean,WS_80_stdev,WS_100_mean,WS_100_stdev,Ta_10_mean,Pbaro_5_mean) VALUES (\" + \"%s,\"*(len(row)-1) + \"%s)\"\n",
    "            cur.execute(sql,row)\n",
    "        print(\"Inserted successfully\")\n",
    "        connection.commit()\n",
    "\n",
    "    except (Exception, psycopg2.Error) as error :\n",
    "        print (\"Error while connecting to PostgreSQL\", error)\n",
    "    finally:\n",
    "        #closing database connection.\n",
    "        if(connection):\n",
    "            cur.close()\n",
    "            connection.close()\n",
    "    print(\"PostgreSQL connection is closed\")"
   ]
  },
  {
   "cell_type": "code",
   "execution_count": 2,
   "metadata": {},
   "outputs": [],
   "source": [
    "def get_cleaneddata():\n",
    "    import psycopg2\n",
    "    try:\n",
    "        connection = psycopg2.connect(user = \"postgres\",\n",
    "                                  password = \"welcome\",\n",
    "                                  host = \"localhost\",\n",
    "                                  port = \"5433\",\n",
    "                                  database = \"cleaning_project\")\n",
    "\n",
    "        cur = connection.cursor()\n",
    "        # display the table\n",
    "        sql=\"select Date,WS_50_mean,WS_50_stdev,WS_80_mean,WS_80_stdev,WS_100_mean,WS_100_stdev,Ta_10_mean,Pbaro_5_mean from wind_data_cleaned_table;\"\n",
    "        cur.execute(sql)\n",
    "        result= cur.fetchall();\n",
    "        dataframe1=pd.DataFrame(result, columns=['Date','WS_50_mean','WS_50_stdev','WS_80_mean','WS_80_stdev','WS_100_mean','WS_100_stdev','Ta_10_mean','Pbaro_5_mean'])\n",
    "        print(dataframe1)\n",
    "        connection.commit()\n",
    "\n",
    "    except (Exception, psycopg2.Error) as error :\n",
    "        print (\"Error while connecting to PostgreSQL\", error)\n",
    "    finally:\n",
    "        #closing database connection.\n",
    "        if(connection):\n",
    "            cur.close()\n",
    "            connection.close()\n",
    "        print(\"PostgreSQL connection is closed\")"
   ]
  },
  {
   "cell_type": "code",
   "execution_count": null,
   "metadata": {},
   "outputs": [],
   "source": [
    "def get_error_log_data():\n",
    "    import psycopg2\n",
    "    try:\n",
    "        connection = psycopg2.connect(user = \"postgres\",\n",
    "                                  password = \"welcome\",\n",
    "                                  host = \"localhost\",\n",
    "                                  port = \"5433\",\n",
    "                                  database = \"cleaning_project\")\n",
    "\n",
    "        cur = connection.cursor()\n",
    "        # display the table\n",
    "        sql=\"select Date,WS_50_mean,WS_50_stdev,WS_80_mean,WS_80_stdev,WS_100_mean,WS_100_stdev,Ta_10_mean,Pbaro_5_mean,codestatus from wind_data_error_log_table;\"\n",
    "        cur.execute(sql)\n",
    "        result= cur.fetchall();\n",
    "        dataframe3=pd.DataFrame(result, columns=['Date','WS_50_mean','WS_50_stdev','WS_80_mean','WS_80_stdev','WS_100_mean','WS_100_stdev','Ta_10_mean','Pbaro_5_mean','codestatus'])\n",
    "        print(dataframe3)\n",
    "        connection.commit()\n",
    "\n",
    "    except (Exception, psycopg2.Error) as error :\n",
    "        print (\"Error while connecting to PostgreSQL\", error)\n",
    "    finally:\n",
    "        #closing database connection.\n",
    "        if(connection):\n",
    "            cur.close()\n",
    "            connection.close()\n",
    "        print(\"PostgreSQL connection is closed\")"
   ]
  },
  {
   "cell_type": "code",
   "execution_count": null,
   "metadata": {},
   "outputs": [],
   "source": [
    "def get_uncleaneddata():\n",
    "    import psycopg2\n",
    "    try:\n",
    "        connection = psycopg2.connect(user = \"postgres\",\n",
    "                                  password = \"welcome\",\n",
    "                                  host = \"localhost\",\n",
    "                                  port = \"5433\",\n",
    "                                  database = \"cleaning_project\")\n",
    "\n",
    "        cur = connection.cursor()\n",
    "        # display the table\n",
    "        sql=\"select Date,WS_50_mean,WS_50_stdev,WS_80_mean,WS_80_stdev,WS_100_mean,WS_100_stdev,Ta_10_mean,Pbaro_5_mean from wind_data_uncleaned_table;\"\n",
    "        cur.execute(sql)\n",
    "        result= cur.fetchall();\n",
    "        dataframe2=pd.DataFrame(result, columns=['Date','WS_50_mean','WS_50_stdev','WS_80_mean','WS_80_stdev','WS_100_mean','WS_100_stdev','Ta_10_mean','Pbaro_5_mean'])\n",
    "        print(dataframe2)\n",
    "        connection.commit()\n",
    "\n",
    "    except (Exception, psycopg2.Error) as error :\n",
    "        print (\"Error while connecting to PostgreSQL\", error)\n",
    "    finally:\n",
    "        #closing database connection.\n",
    "        if(connection):\n",
    "            cur.close()\n",
    "            connection.close()\n",
    "        print(\"PostgreSQL connection is closed\")"
   ]
  },
  {
   "cell_type": "code",
   "execution_count": 6,
   "metadata": {
    "id": "RhnMuXWZJiIM"
   },
   "outputs": [],
   "source": [
    "## PREDICTION MODULE ##"
   ]
  },
  {
   "cell_type": "code",
   "execution_count": 7,
   "metadata": {
    "id": "Xdn7qGim6Pro"
   },
   "outputs": [],
   "source": [
    "#FBPROPHET#"
   ]
  },
  {
   "cell_type": "code",
   "execution_count": null,
   "metadata": {},
   "outputs": [],
   "source": [
    "get_cleaneddata()\n",
    "dfp1 = dataframe1.iloc[:,[1,3,5]].mean(axis=1)\n",
    "dfp2 = dataframe1.iloc[:,[2,4,6]].mean(axis=1)\n",
    "dataframe['Mean Wind speed'], dataframe['Mean st dev'] = [dfp1, dfp2]\n",
    "dfp = dataframe.iloc[:].round({'Mean Wind speed':2, 'Mean st dev':2})\n",
    "dfp['Date/Time']= pd.to_datetime(dfp['Date/Time'])\n",
    "dfp.set_index('Date/Time', inplace=True)\n",
    "dfp.iloc[850:1000]"
   ]
  },
  {
   "cell_type": "code",
   "execution_count": null,
   "metadata": {},
   "outputs": [],
   "source": [
    "from fbprophet import Prophet\n",
    "\n",
    "dfc=dfp.reset_index()[['Date/Time', 'Mean Wind speed']].rename({'Date/Time':'ds', 'Mean Wind speed':'y'}, axis='columns')\n",
    "# split into train and test sets\n",
    "train_size = int(len(dfc) * 0.67)\n",
    "test_size = len(dfc) - train_size\n",
    "train, test = dfc[0:train_size], dfc[train_size:len(dfc)]\n",
    "dfc.tail()"
   ]
  },
  {
   "cell_type": "code",
   "execution_count": null,
   "metadata": {},
   "outputs": [],
   "source": [
    "train.shape,test.shape"
   ]
  },
  {
   "cell_type": "code",
   "execution_count": null,
   "metadata": {},
   "outputs": [],
   "source": [
    "m = Prophet(interval_width=0.95, yearly_seasonality=True, seasonality_mode='multiplicative', weekly_seasonality=True, daily_seasonality=True)\n",
    "train\n",
    "m.fit(train)"
   ]
  },
  {
   "cell_type": "code",
   "execution_count": null,
   "metadata": {},
   "outputs": [],
   "source": [
    "future = m.make_future_dataframe(periods=288, freq='10min')\n",
    "forecast=m.predict(future)\n",
    "fbp = forecast['yhat']"
   ]
  },
  {
   "cell_type": "code",
   "execution_count": null,
   "metadata": {},
   "outputs": [],
   "source": [
    "future"
   ]
  },
  {
   "cell_type": "code",
   "execution_count": null,
   "metadata": {},
   "outputs": [],
   "source": [
    "forecast.tail()"
   ]
  },
  {
   "cell_type": "code",
   "execution_count": null,
   "metadata": {},
   "outputs": [],
   "source": [
    "m.plot(forecast)"
   ]
  },
  {
   "cell_type": "code",
   "execution_count": null,
   "metadata": {},
   "outputs": [],
   "source": [
    "pd.concat([train.set_index('ds')['y'], forecast.set_index('ds')['yhat']],axis=1).plot()"
   ]
  },
  {
   "cell_type": "code",
   "execution_count": null,
   "metadata": {},
   "outputs": [],
   "source": [
    "m.plot_components(forecast)"
   ]
  },
  {
   "cell_type": "code",
   "execution_count": null,
   "metadata": {},
   "outputs": [],
   "source": [
    "from fbprophet.plot import add_changepoints_to_plot\n",
    "\n",
    "fig = m.plot(forecast)\n",
    "add_changepoints_to_plot(fig.gca(), m, forecast)"
   ]
  },
  {
   "cell_type": "code",
   "execution_count": null,
   "metadata": {},
   "outputs": [],
   "source": [
    "m.changepoints"
   ]
  },
  {
   "cell_type": "code",
   "execution_count": null,
   "metadata": {},
   "outputs": [],
   "source": [
    "import plotly.graph_objs as go"
   ]
  },
  {
   "cell_type": "code",
   "execution_count": null,
   "metadata": {},
   "outputs": [],
   "source": [
    "from fbprophet.plot import plot_plotly\n",
    "import plotly.offline as ply\n",
    "\n",
    "fig = plot_plotly(m, forecast)  #this returns a plotly figure\n",
    "ply.iplot(fig)"
   ]
  },
  {
   "cell_type": "code",
   "execution_count": null,
   "metadata": {},
   "outputs": [],
   "source": [
    "from fbprophet.diagnostics import cross_validation as cv\n",
    "results = cv(model=m, initial = '365', horizon = '14 days')\n",
    "results.head()"
   ]
  },
  {
   "cell_type": "code",
   "execution_count": null,
   "metadata": {},
   "outputs": [],
   "source": [
    "from fbprophet.diagnostics import performance_metrics as pm\n",
    "\n",
    "pm(results)"
   ]
  }
 ],
 "metadata": {
  "colab": {
   "collapsed_sections": [],
   "name": "wind_data_cleaning.ipynb",
   "provenance": []
  },
  "kernelspec": {
   "display_name": "Python 3",
   "language": "python",
   "name": "python3"
  },
  "language_info": {
   "codemirror_mode": {
    "name": "ipython",
    "version": 3
   },
   "file_extension": ".py",
   "mimetype": "text/x-python",
   "name": "python",
   "nbconvert_exporter": "python",
   "pygments_lexer": "ipython3",
   "version": "3.7.4"
  }
 },
 "nbformat": 4,
 "nbformat_minor": 1
}
