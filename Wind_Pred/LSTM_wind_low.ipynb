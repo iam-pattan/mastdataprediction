{
 "cells": [
  {
   "cell_type": "code",
   "execution_count": 1,
   "metadata": {
    "colab": {
     "base_uri": "https://localhost:8080/",
     "height": 50
    },
    "id": "MzL7xPQ5CquX",
    "outputId": "e5169561-74ff-4a5b-b01c-3e11f8bdc3bd"
   },
   "outputs": [
    {
     "name": "stderr",
     "output_type": "stream",
     "text": [
      "In C:\\Users\\Afrid\\Anaconda3\\lib\\site-packages\\matplotlib\\mpl-data\\stylelib\\_classic_test.mplstyle: \n",
      "The text.latex.preview rcparam was deprecated in Matplotlib 3.3 and will be removed two minor releases later.\n",
      "In C:\\Users\\Afrid\\Anaconda3\\lib\\site-packages\\matplotlib\\mpl-data\\stylelib\\_classic_test.mplstyle: \n",
      "The mathtext.fallback_to_cm rcparam was deprecated in Matplotlib 3.3 and will be removed two minor releases later.\n",
      "In C:\\Users\\Afrid\\Anaconda3\\lib\\site-packages\\matplotlib\\mpl-data\\stylelib\\_classic_test.mplstyle: Support for setting the 'mathtext.fallback_to_cm' rcParam is deprecated since 3.3 and will be removed two minor releases later; use 'mathtext.fallback : 'cm' instead.\n",
      "In C:\\Users\\Afrid\\Anaconda3\\lib\\site-packages\\matplotlib\\mpl-data\\stylelib\\_classic_test.mplstyle: \n",
      "The validate_bool_maybe_none function was deprecated in Matplotlib 3.3 and will be removed two minor releases later.\n",
      "In C:\\Users\\Afrid\\Anaconda3\\lib\\site-packages\\matplotlib\\mpl-data\\stylelib\\_classic_test.mplstyle: \n",
      "The savefig.jpeg_quality rcparam was deprecated in Matplotlib 3.3 and will be removed two minor releases later.\n",
      "In C:\\Users\\Afrid\\Anaconda3\\lib\\site-packages\\matplotlib\\mpl-data\\stylelib\\_classic_test.mplstyle: \n",
      "The keymap.all_axes rcparam was deprecated in Matplotlib 3.3 and will be removed two minor releases later.\n",
      "In C:\\Users\\Afrid\\Anaconda3\\lib\\site-packages\\matplotlib\\mpl-data\\stylelib\\_classic_test.mplstyle: \n",
      "The animation.avconv_path rcparam was deprecated in Matplotlib 3.3 and will be removed two minor releases later.\n",
      "In C:\\Users\\Afrid\\Anaconda3\\lib\\site-packages\\matplotlib\\mpl-data\\stylelib\\_classic_test.mplstyle: \n",
      "The animation.avconv_args rcparam was deprecated in Matplotlib 3.3 and will be removed two minor releases later.\n"
     ]
    }
   ],
   "source": [
    "# LSTM for wind prediction and time series implementation with regression framing\n",
    "\n",
    "import numpy\n",
    "import matplotlib.pyplot as plt\n",
    "from pandas import read_csv\n",
    "import math\n",
    "from tensorflow.keras.models import Sequential\n",
    "from tensorflow.keras.layers import Dense\n",
    "from tensorflow.keras.layers import LSTM\n",
    "from sklearn.preprocessing import MinMaxScaler\n",
    "from sklearn.metrics import mean_squared_error"
   ]
  },
  {
   "cell_type": "code",
   "execution_count": 2,
   "metadata": {
    "id": "MH8Od_8iPTbd"
   },
   "outputs": [],
   "source": [
    "import numpy as np\n",
    "from numpy import genfromtxt\n",
    "\n",
    "import matplotlib.pyplot as plt\n",
    "import pandas as pd"
   ]
  },
  {
   "cell_type": "code",
   "execution_count": 3,
   "metadata": {
    "id": "tpOE3Vu_0A5m"
   },
   "outputs": [],
   "source": [
    "### convert an array of values into a dataset matrix\n",
    "def create_dataset(dataset, look_back=1):\n",
    "\tdataX, dataY = [], []\n",
    "\tfor i in range(len(dataset)-look_back-1):\n",
    "\t\ta = dataset[i:(i+look_back), 0]\n",
    "\t\tdataX.append(a)\n",
    "\t\tdataY.append(dataset[i + look_back, 0])\n",
    "\treturn numpy.array(dataX), numpy.array(dataY)"
   ]
  },
  {
   "cell_type": "code",
   "execution_count": 4,
   "metadata": {
    "id": "EaKEzeZQz353"
   },
   "outputs": [
    {
     "data": {
      "text/html": [
       "<div>\n",
       "<style scoped>\n",
       "    .dataframe tbody tr th:only-of-type {\n",
       "        vertical-align: middle;\n",
       "    }\n",
       "\n",
       "    .dataframe tbody tr th {\n",
       "        vertical-align: top;\n",
       "    }\n",
       "\n",
       "    .dataframe thead th {\n",
       "        text-align: right;\n",
       "    }\n",
       "</style>\n",
       "<table border=\"1\" class=\"dataframe\">\n",
       "  <thead>\n",
       "    <tr style=\"text-align: right;\">\n",
       "      <th></th>\n",
       "      <th>Date/Time</th>\n",
       "      <th>WS_50_mean</th>\n",
       "      <th>WS_50_stdev</th>\n",
       "      <th>WS_80_mean</th>\n",
       "      <th>WS_80_stdev</th>\n",
       "      <th>WS_100_mean</th>\n",
       "      <th>WS_100_stdev</th>\n",
       "      <th>Ta_10_mean</th>\n",
       "      <th>Pbaro_5_mean</th>\n",
       "    </tr>\n",
       "  </thead>\n",
       "  <tbody>\n",
       "    <tr>\n",
       "      <th>0</th>\n",
       "      <td>2013-10-01 10:00:00</td>\n",
       "      <td>5.62</td>\n",
       "      <td>0.43</td>\n",
       "      <td>5.71</td>\n",
       "      <td>0.43</td>\n",
       "      <td>5.61</td>\n",
       "      <td>0.43</td>\n",
       "      <td>27.81</td>\n",
       "      <td>1004.2</td>\n",
       "    </tr>\n",
       "    <tr>\n",
       "      <th>1</th>\n",
       "      <td>2013-10-01 10:10:00</td>\n",
       "      <td>5.72</td>\n",
       "      <td>0.48</td>\n",
       "      <td>5.85</td>\n",
       "      <td>0.50</td>\n",
       "      <td>5.85</td>\n",
       "      <td>0.43</td>\n",
       "      <td>27.82</td>\n",
       "      <td>1004.1</td>\n",
       "    </tr>\n",
       "    <tr>\n",
       "      <th>2</th>\n",
       "      <td>2013-10-01 10:20:00</td>\n",
       "      <td>6.00</td>\n",
       "      <td>0.36</td>\n",
       "      <td>6.05</td>\n",
       "      <td>0.46</td>\n",
       "      <td>6.05</td>\n",
       "      <td>0.37</td>\n",
       "      <td>27.76</td>\n",
       "      <td>1003.9</td>\n",
       "    </tr>\n",
       "    <tr>\n",
       "      <th>3</th>\n",
       "      <td>2013-10-01 10:30:00</td>\n",
       "      <td>6.49</td>\n",
       "      <td>0.41</td>\n",
       "      <td>6.58</td>\n",
       "      <td>0.53</td>\n",
       "      <td>6.46</td>\n",
       "      <td>0.43</td>\n",
       "      <td>27.77</td>\n",
       "      <td>1003.9</td>\n",
       "    </tr>\n",
       "    <tr>\n",
       "      <th>4</th>\n",
       "      <td>2013-10-01 10:40:00</td>\n",
       "      <td>6.74</td>\n",
       "      <td>0.45</td>\n",
       "      <td>6.82</td>\n",
       "      <td>0.56</td>\n",
       "      <td>6.86</td>\n",
       "      <td>0.39</td>\n",
       "      <td>27.80</td>\n",
       "      <td>1003.8</td>\n",
       "    </tr>\n",
       "    <tr>\n",
       "      <th>...</th>\n",
       "      <td>...</td>\n",
       "      <td>...</td>\n",
       "      <td>...</td>\n",
       "      <td>...</td>\n",
       "      <td>...</td>\n",
       "      <td>...</td>\n",
       "      <td>...</td>\n",
       "      <td>...</td>\n",
       "      <td>...</td>\n",
       "    </tr>\n",
       "    <tr>\n",
       "      <th>104941</th>\n",
       "      <td>2015-09-30 22:30:00</td>\n",
       "      <td>7.78</td>\n",
       "      <td>0.55</td>\n",
       "      <td>7.94</td>\n",
       "      <td>0.50</td>\n",
       "      <td>7.99</td>\n",
       "      <td>0.50</td>\n",
       "      <td>27.59</td>\n",
       "      <td>1010.5</td>\n",
       "    </tr>\n",
       "    <tr>\n",
       "      <th>104942</th>\n",
       "      <td>2015-09-30 22:40:00</td>\n",
       "      <td>7.58</td>\n",
       "      <td>0.59</td>\n",
       "      <td>7.57</td>\n",
       "      <td>0.63</td>\n",
       "      <td>7.60</td>\n",
       "      <td>0.62</td>\n",
       "      <td>27.63</td>\n",
       "      <td>1010.5</td>\n",
       "    </tr>\n",
       "    <tr>\n",
       "      <th>104943</th>\n",
       "      <td>2015-09-30 22:50:00</td>\n",
       "      <td>8.02</td>\n",
       "      <td>0.60</td>\n",
       "      <td>8.04</td>\n",
       "      <td>0.67</td>\n",
       "      <td>8.17</td>\n",
       "      <td>0.63</td>\n",
       "      <td>27.55</td>\n",
       "      <td>1010.4</td>\n",
       "    </tr>\n",
       "    <tr>\n",
       "      <th>104944</th>\n",
       "      <td>2015-09-30 23:00:00</td>\n",
       "      <td>8.76</td>\n",
       "      <td>0.64</td>\n",
       "      <td>8.14</td>\n",
       "      <td>0.74</td>\n",
       "      <td>9.01</td>\n",
       "      <td>0.57</td>\n",
       "      <td>27.46</td>\n",
       "      <td>1010.4</td>\n",
       "    </tr>\n",
       "    <tr>\n",
       "      <th>104945</th>\n",
       "      <td>2015-09-30 23:10:00</td>\n",
       "      <td>8.60</td>\n",
       "      <td>0.61</td>\n",
       "      <td>8.28</td>\n",
       "      <td>0.68</td>\n",
       "      <td>8.84</td>\n",
       "      <td>0.61</td>\n",
       "      <td>27.31</td>\n",
       "      <td>1010.4</td>\n",
       "    </tr>\n",
       "  </tbody>\n",
       "</table>\n",
       "<p>104946 rows × 9 columns</p>\n",
       "</div>"
      ],
      "text/plain": [
       "                 Date/Time  WS_50_mean  WS_50_stdev  WS_80_mean  WS_80_stdev  \\\n",
       "0      2013-10-01 10:00:00        5.62         0.43        5.71         0.43   \n",
       "1      2013-10-01 10:10:00        5.72         0.48        5.85         0.50   \n",
       "2      2013-10-01 10:20:00        6.00         0.36        6.05         0.46   \n",
       "3      2013-10-01 10:30:00        6.49         0.41        6.58         0.53   \n",
       "4      2013-10-01 10:40:00        6.74         0.45        6.82         0.56   \n",
       "...                    ...         ...          ...         ...          ...   \n",
       "104941 2015-09-30 22:30:00        7.78         0.55        7.94         0.50   \n",
       "104942 2015-09-30 22:40:00        7.58         0.59        7.57         0.63   \n",
       "104943 2015-09-30 22:50:00        8.02         0.60        8.04         0.67   \n",
       "104944 2015-09-30 23:00:00        8.76         0.64        8.14         0.74   \n",
       "104945 2015-09-30 23:10:00        8.60         0.61        8.28         0.68   \n",
       "\n",
       "        WS_100_mean  WS_100_stdev  Ta_10_mean  Pbaro_5_mean  \n",
       "0              5.61          0.43       27.81        1004.2  \n",
       "1              5.85          0.43       27.82        1004.1  \n",
       "2              6.05          0.37       27.76        1003.9  \n",
       "3              6.46          0.43       27.77        1003.9  \n",
       "4              6.86          0.39       27.80        1003.8  \n",
       "...             ...           ...         ...           ...  \n",
       "104941         7.99          0.50       27.59        1010.5  \n",
       "104942         7.60          0.62       27.63        1010.5  \n",
       "104943         8.17          0.63       27.55        1010.4  \n",
       "104944         9.01          0.57       27.46        1010.4  \n",
       "104945         8.84          0.61       27.31        1010.4  \n",
       "\n",
       "[104946 rows x 9 columns]"
      ]
     },
     "execution_count": 4,
     "metadata": {},
     "output_type": "execute_result"
    }
   ],
   "source": [
    "### fix random seed for reproducibility\n",
    "numpy.random.seed(7)\n",
    "\n",
    "### load the dataset\n",
    "dataframe = pd.read_excel('mast.xlsx', index_col=None, skipfooter=3)\n",
    "# dataset = dataframe.drop(columns=[\"Date/Time\"])\n",
    "dataframe = pd.DataFrame(dataframe)\n",
    "dataframe"
   ]
  },
  {
   "cell_type": "code",
   "execution_count": 5,
   "metadata": {
    "colab": {
     "base_uri": "https://localhost:8080/",
     "height": 1000
    },
    "id": "oY3HpD1atCqR",
    "outputId": "fd0ae4dd-61be-4e74-91df-fa1572b5cd87"
   },
   "outputs": [
    {
     "data": {
      "text/plain": [
       "0"
      ]
     },
     "execution_count": 5,
     "metadata": {},
     "output_type": "execute_result"
    }
   ],
   "source": [
    "df = dataframe[['Date/Time','WS_50_mean']].copy()\n",
    "df['Date/Time']= pd.to_datetime(df['Date/Time'])\n",
    "df.set_index('Date/Time', inplace=True)\n",
    "\n",
    "dataframe=pd.DataFrame(df)\n",
    "dataframe['WS_50_mean'].isna().sum()"
   ]
  },
  {
   "cell_type": "code",
   "execution_count": 6,
   "metadata": {
    "colab": {
     "base_uri": "https://localhost:8080/",
     "height": 1000
    },
    "id": "Gf88YBkBw2ZM",
    "outputId": "7d8dcfd6-0537-4150-8bdd-b1fb5405fbc7"
   },
   "outputs": [],
   "source": [
    "dataset = dataframe.values\n",
    "dataset = dataset.astype('float32')"
   ]
  },
  {
   "cell_type": "code",
   "execution_count": 7,
   "metadata": {
    "id": "Pz546hiD0Rj5"
   },
   "outputs": [],
   "source": [
    "# normalize the dataset\n",
    "scaler = MinMaxScaler(feature_range=(0, 1))\n",
    "dataset = scaler.fit_transform(dataset)"
   ]
  },
  {
   "cell_type": "code",
   "execution_count": 8,
   "metadata": {
    "colab": {
     "base_uri": "https://localhost:8080/",
     "height": 235
    },
    "id": "sr6Y9sXI0Rw0",
    "outputId": "33d7536e-5c53-4afa-a893-f1fddf9adb73"
   },
   "outputs": [
    {
     "name": "stdout",
     "output_type": "stream",
     "text": [
      "[[0.2443439 ]\n",
      " [0.24886876]\n",
      " [0.26153848]\n",
      " ...\n",
      " [0.26561087]\n",
      " [0.2642534 ]\n",
      " [0.26289594]] [[0.24886876]\n",
      " [0.23710407]\n",
      " [0.240724  ]\n",
      " ...\n",
      " [0.35294122]\n",
      " [0.38642535]\n",
      " [0.37918556]]\n"
     ]
    }
   ],
   "source": [
    "# split into train and test sets\n",
    "train_size = int(len(dataset) * 0.80)\n",
    "test_size = len(dataset) - train_size\n",
    "train, test = dataset[0:train_size,:], dataset[train_size:len(dataset),:]\n",
    "print(train, test)"
   ]
  },
  {
   "cell_type": "code",
   "execution_count": 9,
   "metadata": {
    "id": "70eXDFA80R1A"
   },
   "outputs": [],
   "source": [
    "# reshape into X=t and Y=t+1\n",
    "look_back = 6\n",
    "trainX, trainY = create_dataset(train, look_back)\n",
    "testX, testY = create_dataset(test, look_back)"
   ]
  },
  {
   "cell_type": "code",
   "execution_count": 10,
   "metadata": {
    "colab": {
     "base_uri": "https://localhost:8080/",
     "height": 34
    },
    "id": "LcVcyrVh0Rva",
    "outputId": "dbcf6969-8580-4732-b23c-fea424cf5e64"
   },
   "outputs": [
    {
     "data": {
      "text/plain": [
       "(83949, 6)"
      ]
     },
     "execution_count": 10,
     "metadata": {},
     "output_type": "execute_result"
    }
   ],
   "source": [
    "trainX.shape"
   ]
  },
  {
   "cell_type": "code",
   "execution_count": 11,
   "metadata": {
    "id": "kncMhDho0-qI"
   },
   "outputs": [],
   "source": [
    "# reshape input to be [samples, time steps, features]\n",
    "trainX = numpy.reshape(trainX, (trainX.shape[0], 1, trainX.shape[1]))\n",
    "testX = numpy.reshape(testX, (testX.shape[0], 1, testX.shape[1]))"
   ]
  },
  {
   "cell_type": "code",
   "execution_count": 12,
   "metadata": {
    "colab": {
     "base_uri": "https://localhost:8080/",
     "height": 50
    },
    "id": "33tsc1wu0-vg",
    "outputId": "8bca9929-0c55-495b-b4ed-a3e90f83572f"
   },
   "outputs": [
    {
     "name": "stdout",
     "output_type": "stream",
     "text": [
      "(83949, 1, 6)\n",
      "(20983, 1, 6)\n"
     ]
    }
   ],
   "source": [
    "print(trainX.shape)\n",
    "print(testX.shape)"
   ]
  },
  {
   "cell_type": "code",
   "execution_count": 14,
   "metadata": {
    "colab": {
     "base_uri": "https://localhost:8080/",
     "height": 406
    },
    "id": "nOLEqCuj0-yb",
    "outputId": "a99ca3a5-4206-43eb-de9f-fa01e310f3ea"
   },
   "outputs": [
    {
     "name": "stdout",
     "output_type": "stream",
     "text": [
      "Epoch 1/10\n",
      "1312/1312 [==============================] - 1s 1ms/step - loss: 0.0137\n",
      "Epoch 2/10\n",
      "1312/1312 [==============================] - 1s 1ms/step - loss: 0.0013\n",
      "Epoch 3/10\n",
      "1312/1312 [==============================] - 1s 1ms/step - loss: 0.0011\n",
      "Epoch 4/10\n",
      "1312/1312 [==============================] - 1s 1ms/step - loss: 8.0060e-04\n",
      "Epoch 5/10\n",
      "1312/1312 [==============================] - 1s 1ms/step - loss: 6.2278e-04\n",
      "Epoch 6/10\n",
      "1312/1312 [==============================] - 1s 1ms/step - loss: 5.7009e-04\n",
      "Epoch 7/10\n",
      "1312/1312 [==============================] - 1s 966us/step - loss: 5.4602e-04\n",
      "Epoch 8/10\n",
      "1312/1312 [==============================] - 1s 959us/step - loss: 5.3524e-04\n",
      "Epoch 9/10\n",
      "1312/1312 [==============================] - 1s 1ms/step - loss: 5.2741e-04\n",
      "Epoch 10/10\n",
      "1312/1312 [==============================] - 1s 992us/step - loss: 5.1818e-04\n"
     ]
    },
    {
     "data": {
      "text/plain": [
       "<tensorflow.python.keras.callbacks.History at 0x1d90a4102c8>"
      ]
     },
     "execution_count": 14,
     "metadata": {},
     "output_type": "execute_result"
    }
   ],
   "source": [
    "# create and fit the LSTM network\n",
    "epochs = 10\n",
    "\n",
    "model = Sequential()\n",
    "model.add(LSTM(units = 8, activation = 'relu', input_shape = (1, look_back)))        \n",
    "model.add(Dense(1))\n",
    "model.compile(loss='mean_squared_error', optimizer='adam')\n",
    "model.fit(trainX, trainY, epochs=epochs, batch_size=64, verbose=1)"
   ]
  },
  {
   "cell_type": "code",
   "execution_count": 15,
   "metadata": {
    "colab": {
     "base_uri": "https://localhost:8080/",
     "height": 235
    },
    "id": "omIWi2OH0-tH",
    "outputId": "7dfd4644-a1e7-4913-9afd-d84adfe6378c"
   },
   "outputs": [
    {
     "name": "stdout",
     "output_type": "stream",
     "text": [
      "2624/2624 [==============================] - 1s 550us/step\n",
      "656/656 [==============================] - 0s 581us/step\n",
      "[[0.3112009 ]\n",
      " [0.31400567]\n",
      " [0.31542632]\n",
      " ...\n",
      " [0.27141643]\n",
      " [0.2677501 ]\n",
      " [0.2693655 ]] [[0.22237471]\n",
      " [0.23326865]\n",
      " [0.22164986]\n",
      " ...\n",
      " [0.3480942 ]\n",
      " [0.3395512 ]\n",
      " [0.35575125]]\n"
     ]
    }
   ],
   "source": [
    "# make predictions\n",
    "trainPredict = model.predict(trainX, verbose = 1)\n",
    "testPredict = model.predict(testX, verbose = 1)\n",
    "print(trainPredict, testPredict)"
   ]
  },
  {
   "cell_type": "code",
   "execution_count": 16,
   "metadata": {
    "id": "C0PRtpvp0-mc"
   },
   "outputs": [],
   "source": [
    "# invert predictions\n",
    "trainPredict = scaler.inverse_transform(trainPredict)\n",
    "trainYinv = scaler.inverse_transform([trainY])\n",
    "testPredict = scaler.inverse_transform(testPredict)\n",
    "testYinv = scaler.inverse_transform([testY])"
   ]
  },
  {
   "cell_type": "code",
   "execution_count": 17,
   "metadata": {
    "colab": {
     "base_uri": "https://localhost:8080/",
     "height": 50
    },
    "id": "9_WN31CG1arM",
    "outputId": "50e9acef-d4b3-4df4-8198-e2ad829106b4"
   },
   "outputs": [
    {
     "name": "stdout",
     "output_type": "stream",
     "text": [
      "Train Score: 0.507 RMSE\n",
      "Test Score: 0.533 RMSE\n"
     ]
    }
   ],
   "source": [
    "# calculate root mean squared error\n",
    "trainScore = math.sqrt(mean_squared_error(trainYinv[0], trainPredict[:,0]))\n",
    "print('Train Score: %.3f RMSE' % (trainScore))\n",
    "testScore = math.sqrt(mean_squared_error(testYinv[0], testPredict[:,0]))\n",
    "print('Test Score: %.3f RMSE' % (testScore))"
   ]
  },
  {
   "cell_type": "code",
   "execution_count": 18,
   "metadata": {
    "id": "YXA_w5uJ1auX"
   },
   "outputs": [],
   "source": [
    "# shift train predictions for plotting\n",
    "trainPredictPlot = numpy.empty_like(dataset)\n",
    "trainPredictPlot[:, :] = numpy.nan\n",
    "trainPredictPlot[look_back:len(trainPredict)+look_back, :] = trainPredict\n",
    "\n",
    "# shift test predictions for plotting\n",
    "testPredictPlot = numpy.empty_like(dataset)\n",
    "testPredictPlot[:, :] = numpy.nan\n",
    "testPredictPlot[len(trainPredict)+(look_back*2)+1:len(dataset)-1, :] = testPredict"
   ]
  },
  {
   "cell_type": "code",
   "execution_count": 19,
   "metadata": {
    "colab": {
     "base_uri": "https://localhost:8080/",
     "height": 295
    },
    "id": "l6ZJuGzX1an3",
    "outputId": "5ed60092-5f7c-4031-f9cf-eb70413315a6"
   },
   "outputs": [
    {
     "data": {
      "image/png": "[encoded data removed]",
      "text/plain": [
       "<Figure size 432x288 with 1 Axes>"
      ]
     },
     "metadata": {
      "needs_background": "light"
     },
     "output_type": "display_data"
    }
   ],
   "source": [
    "# plot baseline \n",
    "val_from = 0\n",
    "val_to = -1\n",
    "\n",
    "plt.plot(scaler.inverse_transform(dataset)[val_from:val_to],  label = 'Dataset')\n",
    "plt.xlabel('Time Range')\n",
    "plt.ylabel('Wind Speed (Normalized)')\n",
    "plt.legend()\n",
    "plt.title('Model Input Validation')\n",
    "plt.show()"
   ]
  },
  {
   "cell_type": "code",
   "execution_count": 20,
   "metadata": {
    "colab": {
     "base_uri": "https://localhost:8080/",
     "height": 265
    },
    "id": "Q1Ezotr8X-II",
    "outputId": "c531fd8b-4cf1-4b3c-8537-9858dc64e53f"
   },
   "outputs": [
    {
     "data": {
      "image/png": "[encoded data removed]",
      "text/plain": [
       "<Figure size 432x288 with 1 Axes>"
      ]
     },
     "metadata": {
      "needs_background": "light"
     },
     "output_type": "display_data"
    }
   ],
   "source": [
    "# plot baseline and predictions\n",
    "plt.xlabel('Time Range')\n",
    "plt.ylabel('Wind Speed (Normalized)')\n",
    "plt.title('Model Output Validation')\n",
    "\n",
    "plt.plot(scaler.inverse_transform(dataset)[val_from:val_to],  label = 'Dataset')\n",
    "plt.plot(trainPredictPlot[val_from:val_to],  label = 'Train')\n",
    "plt.plot(testPredictPlot[val_from:val_to],  label = 'Test')\n",
    "plt.show()"
   ]
  },
  {
   "cell_type": "code",
   "execution_count": 21,
   "metadata": {},
   "outputs": [],
   "source": [
    "pred = np.concatenate((trainPredict, testPredict))\n",
    "tpr1=pd.DataFrame(trainPredict)\n",
    "tpr2=pd.DataFrame(testPredict)\n",
    "u=trainPredict.reshape(83949)\n",
    "v=testPredict.reshape(20983)"
   ]
  },
  {
   "cell_type": "code",
   "execution_count": 22,
   "metadata": {},
   "outputs": [
    {
     "data": {
      "text/plain": [
       "(98.97933, 67.576126)"
      ]
     },
     "execution_count": 22,
     "metadata": {},
     "output_type": "execute_result"
    }
   ],
   "source": [
    "from sklearn.metrics import mean_squared_error\n",
    "mean_squared_error(testPredict,testY), mean_squared_error(trainPredict,trainY) "
   ]
  },
  {
   "cell_type": "code",
   "execution_count": 23,
   "metadata": {},
   "outputs": [
    {
     "data": {
      "text/plain": [
       "(-8.61019529463148, -5.70976363392698)"
      ]
     },
     "execution_count": 23,
     "metadata": {},
     "output_type": "execute_result"
    }
   ],
   "source": [
    "from sklearn.metrics import r2_score\n",
    "r2_score(testPredict,testY), r2_score(trainPredict,trainY)"
   ]
  },
  {
   "cell_type": "code",
   "execution_count": null,
   "metadata": {},
   "outputs": [],
   "source": []
  },
  {
   "cell_type": "code",
   "execution_count": 30,
   "metadata": {},
   "outputs": [],
   "source": [
    "import lime\n",
    "import numpy as np\n",
    "from lime import lime_tabular\n",
    "\n",
    "explainer = lime_tabular.LimeTabularExplainer(\n",
    "    training_data=np.array(train),\n",
    "    feature_names=df.columns,\n",
    "    class_names=['bad', 'good'],\n",
    "    mode='regression'\n",
    ")"
   ]
  },
  {
   "cell_type": "code",
   "execution_count": 36,
   "metadata": {},
   "outputs": [
    {
     "ename": "AttributeError",
     "evalue": "'numpy.ndarray' object has no attribute 'iloc'",
     "output_type": "error",
     "traceback": [
      "\u001b[1;31m---------------------------------------------------------------------------\u001b[0m",
      "\u001b[1;31mAttributeError\u001b[0m                            Traceback (most recent call last)",
      "\u001b[1;32m<ipython-input-36-76906cc3f280>\u001b[0m in \u001b[0;36m<module>\u001b[1;34m\u001b[0m\n\u001b[0;32m      1\u001b[0m exp = explainer.explain_instance(\n\u001b[1;32m----> 2\u001b[1;33m     \u001b[0mdata_row\u001b[0m\u001b[1;33m=\u001b[0m\u001b[0mtrainPredict\u001b[0m\u001b[1;33m.\u001b[0m\u001b[0miloc\u001b[0m\u001b[1;33m[\u001b[0m\u001b[1;36m1\u001b[0m\u001b[1;33m]\u001b[0m\u001b[1;33m,\u001b[0m\u001b[1;33m\u001b[0m\u001b[1;33m\u001b[0m\u001b[0m\n\u001b[0m\u001b[0;32m      3\u001b[0m     \u001b[0mpredict_fn\u001b[0m\u001b[1;33m=\u001b[0m\u001b[0mmodel\u001b[0m\u001b[1;33m.\u001b[0m\u001b[0mpredict_proba\u001b[0m\u001b[1;33m\u001b[0m\u001b[1;33m\u001b[0m\u001b[0m\n\u001b[0;32m      4\u001b[0m )\n\u001b[0;32m      5\u001b[0m \u001b[1;33m\u001b[0m\u001b[0m\n",
      "\u001b[1;31mAttributeError\u001b[0m: 'numpy.ndarray' object has no attribute 'iloc'"
     ]
    }
   ],
   "source": [
    "exp = explainer.explain_instance(\n",
    "    data_row=trainPredict.iloc[1], \n",
    "    predict_fn=model.predict_proba\n",
    ")\n",
    "\n",
    "exp.show_in_notebook(show_table=True)"
   ]
  },
  {
   "cell_type": "code",
   "execution_count": 26,
   "metadata": {},
   "outputs": [
    {
     "ename": "NameError",
     "evalue": "name 'explainer' is not defined",
     "output_type": "error",
     "traceback": [
      "\u001b[1;31m---------------------------------------------------------------------------\u001b[0m",
      "\u001b[1;31mNameError\u001b[0m                                 Traceback (most recent call last)",
      "\u001b[1;32m<ipython-input-26-c4744ac1bc76>\u001b[0m in \u001b[0;36m<module>\u001b[1;34m\u001b[0m\n\u001b[1;32m----> 1\u001b[1;33m exp = explainer.explain_instance(\n\u001b[0m\u001b[0;32m      2\u001b[0m     \u001b[0mdata_row\u001b[0m\u001b[1;33m=\u001b[0m\u001b[0mX_test\u001b[0m\u001b[1;33m.\u001b[0m\u001b[0miloc\u001b[0m\u001b[1;33m[\u001b[0m\u001b[1;36m4\u001b[0m\u001b[1;33m]\u001b[0m\u001b[1;33m,\u001b[0m\u001b[1;33m\u001b[0m\u001b[1;33m\u001b[0m\u001b[0m\n\u001b[0;32m      3\u001b[0m     \u001b[0mpredict_fn\u001b[0m\u001b[1;33m=\u001b[0m\u001b[0mmodel\u001b[0m\u001b[1;33m.\u001b[0m\u001b[0mpredict_proba\u001b[0m\u001b[1;33m\u001b[0m\u001b[1;33m\u001b[0m\u001b[0m\n\u001b[0;32m      4\u001b[0m )\n\u001b[0;32m      5\u001b[0m \u001b[1;33m\u001b[0m\u001b[0m\n",
      "\u001b[1;31mNameError\u001b[0m: name 'explainer' is not defined"
     ]
    }
   ],
   "source": [
    "exp = explainer.explain_instance(\n",
    "    data_row=X_test.iloc[4], \n",
    "    predict_fn=model.predict_proba\n",
    ")\n",
    "\n",
    "exp.show_in_notebook(show_table=True)"
   ]
  },
  {
   "cell_type": "code",
   "execution_count": null,
   "metadata": {},
   "outputs": [],
   "source": []
  }
 ],
 "metadata": {
  "accelerator": "GPU",
  "colab": {
   "collapsed_sections": [],
   "name": "LSTM_wind.ipynb",
   "provenance": []
  },
  "kernelspec": {
   "display_name": "Python 3",
   "language": "python",
   "name": "python3"
  },
  "language_info": {
   "codemirror_mode": {
    "name": "ipython",
    "version": 3
   },
   "file_extension": ".py",
   "mimetype": "text/x-python",
   "name": "python",
   "nbconvert_exporter": "python",
   "pygments_lexer": "ipython3",
   "version": "3.7.4"
  }
 },
 "nbformat": 4,
 "nbformat_minor": 1
}
